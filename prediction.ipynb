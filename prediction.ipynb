{
 "cells": [
  {
   "cell_type": "code",
   "execution_count": 1,
   "metadata": {},
   "outputs": [],
   "source": [
    "# Step 1: Import Libraries and Load the Model\n",
    "import numpy as np\n",
    "import tensorflow as tf\n",
    "from tensorflow.keras.datasets import imdb\n",
    "from tensorflow.keras.preprocessing import sequence\n",
    "from tensorflow.keras.models import load_model"
   ]
  },
  {
   "cell_type": "code",
   "execution_count": 2,
   "metadata": {},
   "outputs": [],
   "source": [
    "\n",
    "# Load the IMDB dataset word index\n",
    "word_index = imdb.get_word_index()\n",
    "reverse_word_index = {value: key for key, value in word_index.items()}"
   ]
  },
  {
   "cell_type": "code",
   "execution_count": 3,
   "metadata": {},
   "outputs": [
    {
     "name": "stderr",
     "output_type": "stream",
     "text": [
      "WARNING:absl:Compiled the loaded model, but the compiled metrics have yet to be built. `model.compile_metrics` will be empty until you train or evaluate the model.\n"
     ]
    },
    {
     "data": {
      "text/html": [
       "<pre style=\"white-space:pre;overflow-x:auto;line-height:normal;font-family:Menlo,'DejaVu Sans Mono',consolas,'Courier New',monospace\"><span style=\"font-weight: bold\">Model: \"sequential\"</span>\n",
       "</pre>\n"
      ],
      "text/plain": [
       "\u001b[1mModel: \"sequential\"\u001b[0m\n"
      ]
     },
     "metadata": {},
     "output_type": "display_data"
    },
    {
     "data": {
      "text/html": [
       "<pre style=\"white-space:pre;overflow-x:auto;line-height:normal;font-family:Menlo,'DejaVu Sans Mono',consolas,'Courier New',monospace\">┏━━━━━━━━━━━━━━━━━━━━━━━━━━━━━━━━━┳━━━━━━━━━━━━━━━━━━━━━━━━┳━━━━━━━━━━━━━━━┓\n",
       "┃<span style=\"font-weight: bold\"> Layer (type)                    </span>┃<span style=\"font-weight: bold\"> Output Shape           </span>┃<span style=\"font-weight: bold\">       Param # </span>┃\n",
       "┡━━━━━━━━━━━━━━━━━━━━━━━━━━━━━━━━━╇━━━━━━━━━━━━━━━━━━━━━━━━╇━━━━━━━━━━━━━━━┩\n",
       "│ embedding (<span style=\"color: #0087ff; text-decoration-color: #0087ff\">Embedding</span>)           │ (<span style=\"color: #00af00; text-decoration-color: #00af00\">32</span>, <span style=\"color: #00af00; text-decoration-color: #00af00\">500</span>, <span style=\"color: #00af00; text-decoration-color: #00af00\">128</span>)         │     <span style=\"color: #00af00; text-decoration-color: #00af00\">1,280,000</span> │\n",
       "├─────────────────────────────────┼────────────────────────┼───────────────┤\n",
       "│ simple_rnn (<span style=\"color: #0087ff; text-decoration-color: #0087ff\">SimpleRNN</span>)          │ (<span style=\"color: #00af00; text-decoration-color: #00af00\">32</span>, <span style=\"color: #00af00; text-decoration-color: #00af00\">128</span>)              │        <span style=\"color: #00af00; text-decoration-color: #00af00\">32,896</span> │\n",
       "├─────────────────────────────────┼────────────────────────┼───────────────┤\n",
       "│ dense (<span style=\"color: #0087ff; text-decoration-color: #0087ff\">Dense</span>)                   │ (<span style=\"color: #00af00; text-decoration-color: #00af00\">32</span>, <span style=\"color: #00af00; text-decoration-color: #00af00\">1</span>)                │           <span style=\"color: #00af00; text-decoration-color: #00af00\">129</span> │\n",
       "└─────────────────────────────────┴────────────────────────┴───────────────┘\n",
       "</pre>\n"
      ],
      "text/plain": [
       "┏━━━━━━━━━━━━━━━━━━━━━━━━━━━━━━━━━┳━━━━━━━━━━━━━━━━━━━━━━━━┳━━━━━━━━━━━━━━━┓\n",
       "┃\u001b[1m \u001b[0m\u001b[1mLayer (type)                   \u001b[0m\u001b[1m \u001b[0m┃\u001b[1m \u001b[0m\u001b[1mOutput Shape          \u001b[0m\u001b[1m \u001b[0m┃\u001b[1m \u001b[0m\u001b[1m      Param #\u001b[0m\u001b[1m \u001b[0m┃\n",
       "┡━━━━━━━━━━━━━━━━━━━━━━━━━━━━━━━━━╇━━━━━━━━━━━━━━━━━━━━━━━━╇━━━━━━━━━━━━━━━┩\n",
       "│ embedding (\u001b[38;5;33mEmbedding\u001b[0m)           │ (\u001b[38;5;34m32\u001b[0m, \u001b[38;5;34m500\u001b[0m, \u001b[38;5;34m128\u001b[0m)         │     \u001b[38;5;34m1,280,000\u001b[0m │\n",
       "├─────────────────────────────────┼────────────────────────┼───────────────┤\n",
       "│ simple_rnn (\u001b[38;5;33mSimpleRNN\u001b[0m)          │ (\u001b[38;5;34m32\u001b[0m, \u001b[38;5;34m128\u001b[0m)              │        \u001b[38;5;34m32,896\u001b[0m │\n",
       "├─────────────────────────────────┼────────────────────────┼───────────────┤\n",
       "│ dense (\u001b[38;5;33mDense\u001b[0m)                   │ (\u001b[38;5;34m32\u001b[0m, \u001b[38;5;34m1\u001b[0m)                │           \u001b[38;5;34m129\u001b[0m │\n",
       "└─────────────────────────────────┴────────────────────────┴───────────────┘\n"
      ]
     },
     "metadata": {},
     "output_type": "display_data"
    },
    {
     "data": {
      "text/html": [
       "<pre style=\"white-space:pre;overflow-x:auto;line-height:normal;font-family:Menlo,'DejaVu Sans Mono',consolas,'Courier New',monospace\"><span style=\"font-weight: bold\"> Total params: </span><span style=\"color: #00af00; text-decoration-color: #00af00\">1,313,027</span> (5.01 MB)\n",
       "</pre>\n"
      ],
      "text/plain": [
       "\u001b[1m Total params: \u001b[0m\u001b[38;5;34m1,313,027\u001b[0m (5.01 MB)\n"
      ]
     },
     "metadata": {},
     "output_type": "display_data"
    },
    {
     "data": {
      "text/html": [
       "<pre style=\"white-space:pre;overflow-x:auto;line-height:normal;font-family:Menlo,'DejaVu Sans Mono',consolas,'Courier New',monospace\"><span style=\"font-weight: bold\"> Trainable params: </span><span style=\"color: #00af00; text-decoration-color: #00af00\">1,313,025</span> (5.01 MB)\n",
       "</pre>\n"
      ],
      "text/plain": [
       "\u001b[1m Trainable params: \u001b[0m\u001b[38;5;34m1,313,025\u001b[0m (5.01 MB)\n"
      ]
     },
     "metadata": {},
     "output_type": "display_data"
    },
    {
     "data": {
      "text/html": [
       "<pre style=\"white-space:pre;overflow-x:auto;line-height:normal;font-family:Menlo,'DejaVu Sans Mono',consolas,'Courier New',monospace\"><span style=\"font-weight: bold\"> Non-trainable params: </span><span style=\"color: #00af00; text-decoration-color: #00af00\">0</span> (0.00 B)\n",
       "</pre>\n"
      ],
      "text/plain": [
       "\u001b[1m Non-trainable params: \u001b[0m\u001b[38;5;34m0\u001b[0m (0.00 B)\n"
      ]
     },
     "metadata": {},
     "output_type": "display_data"
    },
    {
     "data": {
      "text/html": [
       "<pre style=\"white-space:pre;overflow-x:auto;line-height:normal;font-family:Menlo,'DejaVu Sans Mono',consolas,'Courier New',monospace\"><span style=\"font-weight: bold\"> Optimizer params: </span><span style=\"color: #00af00; text-decoration-color: #00af00\">2</span> (12.00 B)\n",
       "</pre>\n"
      ],
      "text/plain": [
       "\u001b[1m Optimizer params: \u001b[0m\u001b[38;5;34m2\u001b[0m (12.00 B)\n"
      ]
     },
     "metadata": {},
     "output_type": "display_data"
    }
   ],
   "source": [
    "# Load the pre-trained model with ReLU activation\n",
    "model = load_model('simple_rnn_imdb.h5')\n",
    "model.summary()"
   ]
  },
  {
   "cell_type": "code",
   "execution_count": 4,
   "metadata": {},
   "outputs": [
    {
     "data": {
      "text/plain": [
       "[array([[-0.35556018, -0.36879334,  0.3299082 , ...,  0.39278373,\n",
       "         -0.40219703,  0.40399548],\n",
       "        [-0.00718165,  0.01525494,  0.06198198, ...,  0.04939955,\n",
       "         -0.00431554,  0.01093793],\n",
       "        [-0.06596268,  0.00914839,  0.08123768, ...,  0.02510905,\n",
       "         -0.0006637 ,  0.08878831],\n",
       "        ...,\n",
       "        [-0.0019035 , -0.02161024, -0.06012029, ..., -0.03493118,\n",
       "         -0.00562948,  0.06387053],\n",
       "        [ 0.00072827,  0.01223512,  0.04342789, ...,  0.07174865,\n",
       "         -0.07318684,  0.03673249],\n",
       "        [-0.02752112, -0.04708669,  0.07984272, ..., -0.0242337 ,\n",
       "          0.01031527,  0.06995883]], dtype=float32),\n",
       " array([[ 0.05686761,  0.14163499, -0.14813155, ..., -0.10947502,\n",
       "          0.07647458, -0.12206034],\n",
       "        [-0.08196402,  0.07077821,  0.10471657, ..., -0.00216105,\n",
       "         -0.16574414,  0.03422165],\n",
       "        [-0.13003281,  0.03232337, -0.11296014, ..., -0.06139785,\n",
       "         -0.11118674,  0.0442763 ],\n",
       "        ...,\n",
       "        [ 0.02536719, -0.06877808,  0.02337534, ...,  0.11208878,\n",
       "         -0.09458406, -0.10696837],\n",
       "        [ 0.1367374 , -0.0856556 ,  0.04784444, ..., -0.0041215 ,\n",
       "          0.05887498,  0.12163423],\n",
       "        [-0.07189883, -0.02238679, -0.04584405, ..., -0.03805871,\n",
       "          0.12811191,  0.00179176]], dtype=float32),\n",
       " array([[ 0.01604604, -0.18148963, -0.1413209 , ..., -0.15646723,\n",
       "          0.02816562,  0.00603401],\n",
       "        [-0.11192413,  0.02408771,  0.16400576, ..., -0.03650586,\n",
       "         -0.03297993,  0.01890007],\n",
       "        [ 0.02763181, -0.00973529,  0.12648731, ...,  0.01854204,\n",
       "         -0.00024183,  0.15086316],\n",
       "        ...,\n",
       "        [ 0.05057799, -0.09157221,  0.11352833, ...,  0.01890269,\n",
       "          0.02278309,  0.05457966],\n",
       "        [-0.05268747, -0.02049105,  0.17924158, ..., -0.0218362 ,\n",
       "          0.02993098, -0.09068382],\n",
       "        [-0.00031717,  0.09571237, -0.04187727, ...,  0.12604886,\n",
       "          0.06582703, -0.03907855]], dtype=float32),\n",
       " array([ 0.01004464, -0.01571303,  0.00817822,  0.03893675, -0.01173845,\n",
       "         0.01909662,  0.02946695,  0.01792059, -0.0181568 ,  0.00176409,\n",
       "        -0.00612206, -0.00224536, -0.0027902 , -0.00748334, -0.01781178,\n",
       "        -0.01530943, -0.01533734, -0.00383099,  0.0146501 ,  0.01852337,\n",
       "        -0.00879041, -0.00356662,  0.01276715,  0.02759753, -0.02040924,\n",
       "        -0.00279984,  0.03016716, -0.01480265, -0.00805032,  0.00222667,\n",
       "         0.00203555,  0.01126442, -0.00899228,  0.01456305, -0.00335605,\n",
       "         0.02870994, -0.01370582, -0.01296719,  0.02237137,  0.00581208,\n",
       "         0.02392232, -0.03255153, -0.02976714, -0.01679249, -0.03162732,\n",
       "         0.03088862,  0.00072206, -0.00864895, -0.01298025, -0.00345583,\n",
       "         0.02788368,  0.01563346, -0.00562784, -0.01499574,  0.0051723 ,\n",
       "         0.014967  , -0.01126799,  0.019971  ,  0.00208784,  0.01387012,\n",
       "        -0.01744848, -0.00050679, -0.00491099, -0.0241676 ,  0.00910328,\n",
       "        -0.01644812, -0.02921044, -0.00376844,  0.01123329, -0.02266175,\n",
       "         0.00732085,  0.0185616 , -0.02273368,  0.04930729, -0.01574801,\n",
       "        -0.02446242,  0.00324726, -0.00558926, -0.04322653, -0.01194307,\n",
       "        -0.04495115,  0.02662581,  0.04484171,  0.00328795, -0.00176094,\n",
       "         0.01282051,  0.00655156, -0.01188643, -0.00669259,  0.0171301 ,\n",
       "         0.01154779,  0.0048957 ,  0.01091462, -0.01905212, -0.06267022,\n",
       "        -0.01643886, -0.01094414,  0.03136297,  0.01238874, -0.01372095,\n",
       "        -0.00829495,  0.0024301 , -0.00129735,  0.04193018,  0.00223313,\n",
       "        -0.02799032,  0.05596402, -0.01091578, -0.01024323,  0.02079913,\n",
       "        -0.00701316,  0.020332  ,  0.01003699, -0.01625917, -0.02189968,\n",
       "        -0.00816919,  0.04288526, -0.00986962,  0.0060013 , -0.00331016,\n",
       "         0.00642362,  0.00625394,  0.01330211,  0.02257204, -0.00172052,\n",
       "         0.01264433, -0.00108438, -0.01034132], dtype=float32),\n",
       " array([[-0.1310095 ],\n",
       "        [ 0.19795243],\n",
       "        [-0.07199435],\n",
       "        [ 0.3778701 ],\n",
       "        [ 0.03950792],\n",
       "        [-0.0020292 ],\n",
       "        [ 0.26269665],\n",
       "        [ 0.04274224],\n",
       "        [ 0.07295305],\n",
       "        [ 0.14898764],\n",
       "        [ 0.11356651],\n",
       "        [-0.03234919],\n",
       "        [-0.18261772],\n",
       "        [-0.00851031],\n",
       "        [ 0.00628428],\n",
       "        [-0.03670544],\n",
       "        [ 0.21843043],\n",
       "        [ 0.30598688],\n",
       "        [ 0.2123728 ],\n",
       "        [-0.03341503],\n",
       "        [ 0.20144452],\n",
       "        [ 0.07821088],\n",
       "        [-0.14796895],\n",
       "        [ 0.21890351],\n",
       "        [ 0.23489867],\n",
       "        [ 0.25062793],\n",
       "        [ 0.62594545],\n",
       "        [ 0.15844293],\n",
       "        [ 0.03524525],\n",
       "        [-0.27399287],\n",
       "        [-0.07551546],\n",
       "        [ 0.10664167],\n",
       "        [ 0.1290371 ],\n",
       "        [ 0.15142177],\n",
       "        [ 0.08745347],\n",
       "        [-0.11040878],\n",
       "        [-0.19194114],\n",
       "        [ 0.18503302],\n",
       "        [ 0.32541785],\n",
       "        [-0.11617348],\n",
       "        [ 0.00318019],\n",
       "        [ 0.0804175 ],\n",
       "        [ 0.24544577],\n",
       "        [ 0.6364144 ],\n",
       "        [-0.13308859],\n",
       "        [-0.24508376],\n",
       "        [-0.06779207],\n",
       "        [ 0.1995644 ],\n",
       "        [ 0.12239695],\n",
       "        [ 0.3883924 ],\n",
       "        [ 0.0218647 ],\n",
       "        [-0.04122915],\n",
       "        [ 0.06767629],\n",
       "        [-0.09675201],\n",
       "        [ 0.13668689],\n",
       "        [-0.00213725],\n",
       "        [-0.12484226],\n",
       "        [ 0.08356187],\n",
       "        [ 0.09736399],\n",
       "        [-0.00507523],\n",
       "        [ 0.10875393],\n",
       "        [ 0.13592435],\n",
       "        [ 0.20384476],\n",
       "        [ 0.0902334 ],\n",
       "        [ 0.10324617],\n",
       "        [-0.16108952],\n",
       "        [-0.04762497],\n",
       "        [ 0.15932761],\n",
       "        [-0.00901589],\n",
       "        [-0.06230053],\n",
       "        [ 0.1113322 ],\n",
       "        [ 0.1374742 ],\n",
       "        [ 0.19293582],\n",
       "        [ 0.34927455],\n",
       "        [ 0.04746491],\n",
       "        [-0.0036484 ],\n",
       "        [ 0.03966381],\n",
       "        [-0.2097172 ],\n",
       "        [ 0.26305854],\n",
       "        [-0.08960744],\n",
       "        [-0.07813837],\n",
       "        [ 0.19221903],\n",
       "        [-0.25651646],\n",
       "        [-0.12879148],\n",
       "        [ 0.16696474],\n",
       "        [ 0.17261562],\n",
       "        [ 0.17505838],\n",
       "        [ 0.23858695],\n",
       "        [ 0.16662434],\n",
       "        [-0.14153679],\n",
       "        [-0.24196075],\n",
       "        [ 0.09547943],\n",
       "        [ 0.04122162],\n",
       "        [ 0.0322007 ],\n",
       "        [ 0.11315219],\n",
       "        [ 0.16218384],\n",
       "        [ 0.229693  ],\n",
       "        [-0.15865868],\n",
       "        [ 0.27947515],\n",
       "        [-0.08096471],\n",
       "        [-0.11497592],\n",
       "        [ 0.05248742],\n",
       "        [ 0.1470407 ],\n",
       "        [ 0.39887914],\n",
       "        [ 0.00203175],\n",
       "        [ 0.04415083],\n",
       "        [-0.1229478 ],\n",
       "        [-0.7077641 ],\n",
       "        [ 0.10169699],\n",
       "        [ 0.08436833],\n",
       "        [ 0.26551557],\n",
       "        [-0.24025942],\n",
       "        [-0.33409655],\n",
       "        [ 0.11965442],\n",
       "        [-0.04823517],\n",
       "        [-0.09655765],\n",
       "        [-0.10837697],\n",
       "        [-0.06665079],\n",
       "        [-0.12410435],\n",
       "        [ 0.04480032],\n",
       "        [-0.16067402],\n",
       "        [ 0.579515  ],\n",
       "        [ 0.15640989],\n",
       "        [ 0.22730456],\n",
       "        [ 0.05868132],\n",
       "        [-0.01565257],\n",
       "        [ 0.00795303],\n",
       "        [-0.16091757]], dtype=float32),\n",
       " array([0.80721086], dtype=float32)]"
      ]
     },
     "execution_count": 4,
     "metadata": {},
     "output_type": "execute_result"
    }
   ],
   "source": [
    "model.get_weights()"
   ]
  },
  {
   "cell_type": "code",
   "execution_count": 5,
   "metadata": {},
   "outputs": [],
   "source": [
    "# Step 2: Helper Functions\n",
    "# Function to decode reviews\n",
    "def decode_review(encoded_review):\n",
    "    return ' '.join([reverse_word_index.get(i - 3, '?') for i in encoded_review])\n",
    "\n",
    "# Function to preprocess user input\n",
    "def preprocess_text(text):\n",
    "    words = text.lower().split()\n",
    "    encoded_review = [word_index.get(word, 2) + 3 for word in words]\n",
    "    padded_review = sequence.pad_sequences([encoded_review], maxlen=500)\n",
    "    return padded_review"
   ]
  },
  {
   "cell_type": "code",
   "execution_count": 6,
   "metadata": {},
   "outputs": [],
   "source": [
    "### Prediction  function\n",
    "\n",
    "def predict_sentiment(review):\n",
    "    preprocessed_input=preprocess_text(review)\n",
    "\n",
    "    prediction=model.predict(preprocessed_input)\n",
    "\n",
    "    sentiment = 'Positive' if prediction[0][0] > 0.5 else 'Negative'\n",
    "    \n",
    "    return sentiment, prediction[0][0]\n",
    "\n"
   ]
  },
  {
   "cell_type": "code",
   "execution_count": 7,
   "metadata": {},
   "outputs": [
    {
     "name": "stdout",
     "output_type": "stream",
     "text": [
      "\u001b[1m1/1\u001b[0m \u001b[32m━━━━━━━━━━━━━━━━━━━━\u001b[0m\u001b[37m\u001b[0m \u001b[1m0s\u001b[0m 237ms/step\n",
      "Review: This movie was fantastic! The acting was great and the plot was thrilling.\n",
      "Sentiment: Negative\n",
      "Prediction Score: 0.002676627831533551\n"
     ]
    }
   ],
   "source": [
    "# Step 4: User Input and Prediction\n",
    "# Example review for prediction\n",
    "example_review = \"This movie was fantastic! The acting was great and the plot was thrilling.\"\n",
    "\n",
    "sentiment,score=predict_sentiment(example_review)\n",
    "\n",
    "print(f'Review: {example_review}')\n",
    "print(f'Sentiment: {sentiment}')\n",
    "print(f'Prediction Score: {score}')"
   ]
  },
  {
   "cell_type": "code",
   "execution_count": null,
   "metadata": {},
   "outputs": [],
   "source": []
  },
  {
   "cell_type": "code",
   "execution_count": null,
   "metadata": {},
   "outputs": [],
   "source": []
  },
  {
   "cell_type": "code",
   "execution_count": null,
   "metadata": {},
   "outputs": [],
   "source": []
  },
  {
   "cell_type": "code",
   "execution_count": null,
   "metadata": {},
   "outputs": [],
   "source": []
  }
 ],
 "metadata": {
  "kernelspec": {
   "display_name": "Python 3",
   "language": "python",
   "name": "python3"
  },
  "language_info": {
   "codemirror_mode": {
    "name": "ipython",
    "version": 3
   },
   "file_extension": ".py",
   "mimetype": "text/x-python",
   "name": "python",
   "nbconvert_exporter": "python",
   "pygments_lexer": "ipython3",
   "version": "3.11.7"
  }
 },
 "nbformat": 4,
 "nbformat_minor": 2
}
